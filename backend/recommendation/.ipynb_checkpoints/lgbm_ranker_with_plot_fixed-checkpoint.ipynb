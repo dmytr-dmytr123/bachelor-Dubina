{
 "cells": [
  {
   "cell_type": "code",
   "execution_count": null,
   "id": "f47581b6",
   "metadata": {},
   "outputs": [
    {
     "ename": "",
     "evalue": "",
     "output_type": "error",
     "traceback": [
      "\u001b[1;31mRunning cells with 'base (Python 3.9.12)' requires the ipykernel package.\n",
      "\u001b[1;31mInstall 'ipykernel' into the Python environment. \n",
      "\u001b[1;31mCommand: 'conda install -n base ipykernel --update-deps --force-reinstall'"
     ]
    }
   ],
   "source": [
    "\n",
    "import json\n",
    "import joblib\n",
    "import numpy as np\n",
    "from sklearn.cluster import KMeans\n",
    "from sklearn.preprocessing import StandardScaler\n",
    "from lightgbm import LGBMRanker\n",
    "from itertools import accumulate\n",
    "from event_vectorizer import EventVectorizer\n",
    "from sklearn.metrics.pairwise import cosine_similarity\n",
    "import matplotlib.pyplot as plt\n"
   ]
  },
  {
   "cell_type": "code",
   "execution_count": null,
   "id": "8d0e138b",
   "metadata": {},
   "outputs": [],
   "source": [
    "\n",
    "#loading data\n",
    "with open(\"interactions_ranked_soft_with_friends.json\", \"r\") as f:\n",
    "    data = json.load(f)\n",
    "\n",
    "vectorizer = EventVectorizer()\n",
    "vectorizer.fit(data)\n",
    "\n",
    "X_raw, y_raw, groups = [], [], []\n",
    "user_vecs = []\n",
    "\n",
    "#vectorize users\n",
    "for entry in data:\n",
    "    profile = vectorizer.transform_user_profile(entry[\"user_profile\"])\n",
    "    history = vectorizer.transform_user_history(entry[\"user_history\"])\n",
    "    user_vecs.append(np.concatenate([profile, history]))\n",
    "\n",
    "kmeans = KMeans(n_clusters=3, random_state=42).fit(user_vecs)\n",
    "cluster_ids = kmeans.predict(user_vecs)\n"
   ]
  },
  {
   "cell_type": "code",
   "execution_count": null,
   "id": "e681f1fd",
   "metadata": {},
   "outputs": [],
   "source": [
    "\n",
    "X_tmp, y_tmp = [], []\n",
    "for i, entry in enumerate(data):\n",
    "    profile = vectorizer.transform_user_profile(entry[\"user_profile\"])\n",
    "    history = vectorizer.transform_user_history(entry[\"user_history\"])\n",
    "    event = vectorizer.transform_event(entry[\"event\"])\n",
    "\n",
    "    friends = entry.get(\"friends_attended\", [])\n",
    "    friend_hist_vecs = [vectorizer.transform_event(f_event) for f_event in friends]\n",
    "    if friend_hist_vecs:\n",
    "        avg_friend_hist_vec = np.mean(friend_hist_vecs, axis=0).reshape(1, -1)\n",
    "        event_vec_reshaped = event.reshape(1, -1)\n",
    "        friend_hist_sim = cosine_similarity(avg_friend_hist_vec, event_vec_reshaped)[0][0]\n",
    "    else:\n",
    "        friend_hist_sim = 0.0\n",
    "\n",
    "    cluster = [cluster_ids[i]]\n",
    "    full_vec = np.concatenate([\n",
    "        profile * 5,\n",
    "        history * 4,\n",
    "        event * 2,\n",
    "        [friend_hist_sim * 2],\n",
    "        cluster\n",
    "    ])\n",
    "\n",
    "    if -1 in full_vec:\n",
    "        continue\n",
    "\n",
    "    X_tmp.append(full_vec)\n",
    "    y_tmp.append(entry[\"label\"])\n",
    "\n",
    "    is_last = i == len(data) - 1\n",
    "    next_profile = data[i + 1][\"user_profile\"] if not is_last else None\n",
    "    if is_last or entry[\"user_profile\"] != next_profile:\n",
    "        X_raw.extend(X_tmp)\n",
    "        y_raw.extend(y_tmp)\n",
    "        groups.append(len(X_tmp))\n",
    "        X_tmp = []\n",
    "        y_tmp = []\n"
   ]
  },
  {
   "cell_type": "code",
   "execution_count": null,
   "id": "92d107ce",
   "metadata": {},
   "outputs": [],
   "source": [
    "\n",
    "X = np.array(X_raw)\n",
    "y = [int(round(label * 10)) for label in y_raw]\n",
    "scaler = StandardScaler()\n",
    "X_scaled = scaler.fit_transform(X)\n",
    "\n",
    "X_train, y_train, train_groups = [], [], []\n",
    "X_test, y_test, test_groups = [], [], []\n",
    "\n",
    "starts = [0] + list(accumulate(groups))[:-1]\n",
    "ends = list(accumulate(groups))\n",
    "\n",
    "for i, (start, end) in enumerate(zip(starts, ends)):\n",
    "    if i < int(len(groups) * 0.8):\n",
    "        X_train.extend(X_scaled[start:end])\n",
    "        y_train.extend(y[start:end])\n",
    "        train_groups.append(end - start)\n",
    "    else:\n",
    "        X_test.extend(X_scaled[start:end])\n",
    "        y_test.extend(y[start:end])\n",
    "        test_groups.append(end - start)\n",
    "\n",
    "model = LGBMRanker(\n",
    "    n_estimators=100,\n",
    "    learning_rate=0.05,\n",
    "    objective=\"lambdarank\",\n",
    "    verbosity=-1,\n",
    "    label_gain=[0.0, 0.1, 0.2, 0.3, 0.4, 0.5, 0.6, 0.7, 0.8, 0.9, 1.0]\n",
    ")\n",
    "model.fit(X_train, y_train, group=train_groups)\n"
   ]
  },
  {
   "cell_type": "code",
   "execution_count": null,
   "id": "b3abf504",
   "metadata": {},
   "outputs": [],
   "source": [
    "\n",
    "#predict and plots\n",
    "y_pred_test = model.predict(X_test)\n",
    "plt.hist(y_pred_test, bins=30, edgecolor='k')\n",
    "plt.title(\"Distribution of Predicted Scores\")\n",
    "plt.xlabel(\"Predicted Score\")\n",
    "plt.ylabel(\"Frequency\")\n",
    "plt.grid(True)\n",
    "plt.show()\n"
   ]
  }
 ],
 "metadata": {
  "kernelspec": {
   "display_name": "base",
   "language": "python",
   "name": "python3"
  },
  "language_info": {
   "name": "python",
   "version": "3.9.12"
  }
 },
 "nbformat": 4,
 "nbformat_minor": 5
}
